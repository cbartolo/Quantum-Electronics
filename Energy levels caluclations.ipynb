{
 "cells": [
  {
   "cell_type": "markdown",
   "metadata": {},
   "source": [
    "# Calculation of energy levels in a quantum dot"
   ]
  },
  {
   "cell_type": "markdown",
   "metadata": {},
   "source": [
    "Consider a InAs quantum dot with the sizes Lx=1.5nm, Ly=2nm, Lz=3nm. Eg=0.354eV"
   ]
  },
  {
   "cell_type": "markdown",
   "metadata": {},
   "source": [
    "1. Calculate the lowest 5 energy levels. Draw the energy diagram. Label them clearly.\n",
    "2. What is the emission wavelength? (assuming transition between the ground levels) \n"
   ]
  },
  {
   "cell_type": "markdown",
   "metadata": {},
   "source": []
  },
  {
   "cell_type": "code",
   "execution_count": 1,
   "metadata": {
    "collapsed": true
   },
   "outputs": [],
   "source": [
    "import numpy as np\n",
    "import matplotlib as plt"
   ]
  },
  {
   "cell_type": "markdown",
   "metadata": {},
   "source": [
    "We use the solution to the Schordinger equation"
   ]
  },
  {
   "cell_type": "markdown",
   "metadata": {},
   "source": [
    "$$ E=\\frac{\\hbar }{2m}\\left ( \\frac{n \\pi }{L} \\right )^{2} $$"
   ]
  },
  {
   "cell_type": "markdown",
   "metadata": {},
   "source": [
    "The equation for a 3d quantum dot becomes.."
   ]
  },
  {
   "cell_type": "markdown",
   "metadata": {},
   "source": [
    "$$ E=\\frac{h }{8m} \\left (    \\frac{ n _{x}^{2}}{L_{x}^{2}}  +  \\frac{ n _{y}^{2}}{L_{y}^{2}} +  \\frac{ n _{z}^{2}}{L_{z}^{2}}     \\right ) $$"
   ]
  },
  {
   "cell_type": "code",
   "execution_count": 73,
   "metadata": {
    "collapsed": true
   },
   "outputs": [],
   "source": [
    "h= 6.62607004*10**-34 # m2 kg / s\n",
    "m=9.10938356*10**-31 #Kg\n",
    "Lx=1.5*10**-9 #m\n",
    "Ly= 2*10**-9 #m\n",
    "Lz= 3*10**-9 #m\n",
    "nx=2\n",
    "ny=1\n",
    "nz=1"
   ]
  },
  {
   "cell_type": "code",
   "execution_count": 74,
   "metadata": {
    "collapsed": false
   },
   "outputs": [],
   "source": [
    "E= ((h**2)/(8*m)) * (( (nx**2) / (Lx**2) )  + ((ny**2) / (Ly**2)) + ((nz**2) / (Lz**2) ) )"
   ]
  },
  {
   "cell_type": "code",
   "execution_count": 75,
   "metadata": {
    "collapsed": false
   },
   "outputs": [
    {
     "data": {
      "text/plain": [
       "2.0643522489021766"
      ]
     },
     "execution_count": 75,
     "metadata": {},
     "output_type": "execute_result"
    }
   ],
   "source": [
    "E*1.602*10**19"
   ]
  },
  {
   "cell_type": "code",
   "execution_count": null,
   "metadata": {
    "collapsed": true
   },
   "outputs": [],
   "source": []
  },
  {
   "cell_type": "code",
   "execution_count": null,
   "metadata": {
    "collapsed": true
   },
   "outputs": [],
   "source": []
  }
 ],
 "metadata": {
  "anaconda-cloud": {},
  "kernelspec": {
   "display_name": "Python [conda root]",
   "language": "python",
   "name": "conda-root-py"
  },
  "language_info": {
   "codemirror_mode": {
    "name": "ipython",
    "version": 3
   },
   "file_extension": ".py",
   "mimetype": "text/x-python",
   "name": "python",
   "nbconvert_exporter": "python",
   "pygments_lexer": "ipython3",
   "version": "3.5.2"
  }
 },
 "nbformat": 4,
 "nbformat_minor": 1
}
